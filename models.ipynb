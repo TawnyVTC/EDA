{
 "cells": [
  {
   "cell_type": "markdown",
   "metadata": {},
   "source": [
    "# **Modelos Benchmarks**"
   ]
  },
  {
   "cell_type": "code",
   "execution_count": 28,
   "metadata": {
    "tags": [
     "hide-input"
    ]
   },
   "outputs": [],
   "source": [
    "# Librerias Importadas\n",
    "\n",
    "import time\n",
    "import numpy as np\n",
    "import pandas as pd\n",
    "from sklearn.model_selection import train_test_split\n",
    "from sklearn.preprocessing import StandardScaler\n",
    "from sklearn.neighbors import KNeighborsRegressor\n",
    "from sklearn.linear_model import LinearRegression, Ridge, Lasso, LogisticRegression\n",
    "from sklearn.ensemble import RandomForestRegressor\n",
    "from xgboost import XGBRegressor\n",
    "from sklearn.svm import SVR\n",
    "from sklearn.metrics import mean_absolute_percentage_error, mean_squared_error, r2_score\n",
    "from statsmodels.stats.diagnostic import acorr_ljungbox\n",
    "from statsmodels.stats.stattools import jarque_bera"
   ]
  },
  {
   "cell_type": "code",
   "execution_count": 2,
   "metadata": {
    "tags": [
     "hide-input"
    ]
   },
   "outputs": [
    {
     "data": {
      "text/html": [
       "<div>\n",
       "<style scoped>\n",
       "    .dataframe tbody tr th:only-of-type {\n",
       "        vertical-align: middle;\n",
       "    }\n",
       "\n",
       "    .dataframe tbody tr th {\n",
       "        vertical-align: top;\n",
       "    }\n",
       "\n",
       "    .dataframe thead th {\n",
       "        text-align: right;\n",
       "    }\n",
       "</style>\n",
       "<table border=\"1\" class=\"dataframe\">\n",
       "  <thead>\n",
       "    <tr style=\"text-align: right;\">\n",
       "      <th></th>\n",
       "      <th>FECHA_CORTE</th>\n",
       "      <th>TIPO_ENTIDAD</th>\n",
       "      <th>NOMBRE_TIPO_ENTIDAD</th>\n",
       "      <th>SUBTIPO_NEGOCIO</th>\n",
       "      <th>NOMBRE_SUBTIPO_PATRIMONIO</th>\n",
       "      <th>PRINCIPAL_COMPARTIMENTO</th>\n",
       "      <th>RENDIMIENTOS_ABONADOS</th>\n",
       "      <th>PRECIERRE_FONDO_DIA_T</th>\n",
       "      <th>APORTES_RECIBIDOS</th>\n",
       "      <th>RETIROS_REDENCIONES</th>\n",
       "      <th>VALOR_FONDO_CIERRE_DIA_T</th>\n",
       "      <th>RENTABILIDAD_DIARIA</th>\n",
       "      <th>RENTABILIDAD_MENSUAL</th>\n",
       "      <th>RENTABILIDAD_SEMESTRAL</th>\n",
       "      <th>RENTABILIDAD_ANUAL</th>\n",
       "    </tr>\n",
       "  </thead>\n",
       "  <tbody>\n",
       "    <tr>\n",
       "      <th>0</th>\n",
       "      <td>2016-01-01</td>\n",
       "      <td>5</td>\n",
       "      <td>SF-SOCIEDAD FIDUCIARIA</td>\n",
       "      <td>1</td>\n",
       "      <td>FIC DE TIPO GENERAL</td>\n",
       "      <td>1</td>\n",
       "      <td>1.225369e+08</td>\n",
       "      <td>9.303540e+11</td>\n",
       "      <td>0.0</td>\n",
       "      <td>0.0</td>\n",
       "      <td>9.303540e+11</td>\n",
       "      <td>4.925178</td>\n",
       "      <td>4.540000</td>\n",
       "      <td>3.020000</td>\n",
       "      <td>3.190000</td>\n",
       "    </tr>\n",
       "    <tr>\n",
       "      <th>1</th>\n",
       "      <td>2016-01-01</td>\n",
       "      <td>5</td>\n",
       "      <td>SF-SOCIEDAD FIDUCIARIA</td>\n",
       "      <td>7</td>\n",
       "      <td>FONDOS DE CAPITAL PRIVADO</td>\n",
       "      <td>1</td>\n",
       "      <td>2.678000e+02</td>\n",
       "      <td>1.370691e+11</td>\n",
       "      <td>0.0</td>\n",
       "      <td>0.0</td>\n",
       "      <td>1.370691e+11</td>\n",
       "      <td>0.000071</td>\n",
       "      <td>7.398338</td>\n",
       "      <td>47.588044</td>\n",
       "      <td>25.129215</td>\n",
       "    </tr>\n",
       "    <tr>\n",
       "      <th>2</th>\n",
       "      <td>2016-01-01</td>\n",
       "      <td>85</td>\n",
       "      <td>COMISIONISTAS DE BOLSA DE VALORES</td>\n",
       "      <td>1</td>\n",
       "      <td>FIC DE TIPO GENERAL</td>\n",
       "      <td>1</td>\n",
       "      <td>3.267797e+05</td>\n",
       "      <td>1.142338e+10</td>\n",
       "      <td>0.0</td>\n",
       "      <td>0.0</td>\n",
       "      <td>1.142338e+10</td>\n",
       "      <td>1.049611</td>\n",
       "      <td>-4.692300</td>\n",
       "      <td>0.631400</td>\n",
       "      <td>3.371184</td>\n",
       "    </tr>\n",
       "    <tr>\n",
       "      <th>3</th>\n",
       "      <td>2016-01-01</td>\n",
       "      <td>85</td>\n",
       "      <td>COMISIONISTAS DE BOLSA DE VALORES</td>\n",
       "      <td>7</td>\n",
       "      <td>FONDOS DE CAPITAL PRIVADO</td>\n",
       "      <td>2</td>\n",
       "      <td>-6.025692e+05</td>\n",
       "      <td>7.128130e+09</td>\n",
       "      <td>0.0</td>\n",
       "      <td>0.0</td>\n",
       "      <td>7.128130e+09</td>\n",
       "      <td>-3.038200</td>\n",
       "      <td>5.764400</td>\n",
       "      <td>0.000000</td>\n",
       "      <td>0.000000</td>\n",
       "    </tr>\n",
       "    <tr>\n",
       "      <th>4</th>\n",
       "      <td>2016-01-01</td>\n",
       "      <td>85</td>\n",
       "      <td>COMISIONISTAS DE BOLSA DE VALORES</td>\n",
       "      <td>1</td>\n",
       "      <td>FIC DE TIPO GENERAL</td>\n",
       "      <td>1</td>\n",
       "      <td>-4.057828e+04</td>\n",
       "      <td>5.055087e+08</td>\n",
       "      <td>0.0</td>\n",
       "      <td>0.0</td>\n",
       "      <td>5.055087e+08</td>\n",
       "      <td>-2.887314</td>\n",
       "      <td>145.398140</td>\n",
       "      <td>0.000000</td>\n",
       "      <td>0.000000</td>\n",
       "    </tr>\n",
       "  </tbody>\n",
       "</table>\n",
       "</div>"
      ],
      "text/plain": [
       "  FECHA_CORTE  TIPO_ENTIDAD                NOMBRE_TIPO_ENTIDAD  \\\n",
       "0  2016-01-01             5             SF-SOCIEDAD FIDUCIARIA   \n",
       "1  2016-01-01             5             SF-SOCIEDAD FIDUCIARIA   \n",
       "2  2016-01-01            85  COMISIONISTAS DE BOLSA DE VALORES   \n",
       "3  2016-01-01            85  COMISIONISTAS DE BOLSA DE VALORES   \n",
       "4  2016-01-01            85  COMISIONISTAS DE BOLSA DE VALORES   \n",
       "\n",
       "   SUBTIPO_NEGOCIO  NOMBRE_SUBTIPO_PATRIMONIO  PRINCIPAL_COMPARTIMENTO  \\\n",
       "0                1        FIC DE TIPO GENERAL                        1   \n",
       "1                7  FONDOS DE CAPITAL PRIVADO                        1   \n",
       "2                1        FIC DE TIPO GENERAL                        1   \n",
       "3                7  FONDOS DE CAPITAL PRIVADO                        2   \n",
       "4                1        FIC DE TIPO GENERAL                        1   \n",
       "\n",
       "   RENDIMIENTOS_ABONADOS  PRECIERRE_FONDO_DIA_T  APORTES_RECIBIDOS  \\\n",
       "0           1.225369e+08           9.303540e+11                0.0   \n",
       "1           2.678000e+02           1.370691e+11                0.0   \n",
       "2           3.267797e+05           1.142338e+10                0.0   \n",
       "3          -6.025692e+05           7.128130e+09                0.0   \n",
       "4          -4.057828e+04           5.055087e+08                0.0   \n",
       "\n",
       "   RETIROS_REDENCIONES  VALOR_FONDO_CIERRE_DIA_T  RENTABILIDAD_DIARIA  \\\n",
       "0                  0.0              9.303540e+11             4.925178   \n",
       "1                  0.0              1.370691e+11             0.000071   \n",
       "2                  0.0              1.142338e+10             1.049611   \n",
       "3                  0.0              7.128130e+09            -3.038200   \n",
       "4                  0.0              5.055087e+08            -2.887314   \n",
       "\n",
       "   RENTABILIDAD_MENSUAL  RENTABILIDAD_SEMESTRAL  RENTABILIDAD_ANUAL  \n",
       "0              4.540000                3.020000            3.190000  \n",
       "1              7.398338               47.588044           25.129215  \n",
       "2             -4.692300                0.631400            3.371184  \n",
       "3              5.764400                0.000000            0.000000  \n",
       "4            145.398140                0.000000            0.000000  "
      ]
     },
     "execution_count": 2,
     "metadata": {},
     "output_type": "execute_result"
    }
   ],
   "source": [
    "# Cargar datos\n",
    "df = pd.read_csv(r\"C:\\Users\\TAWTOCA\\OneDrive - Universidad del Norte\\Documentos\\Visual Files\\16-21.csv\")\n",
    "\n",
    "columns_to_drop = ['CODIGO_ENTIDAD','NOMBRE_ENTIDAD', 'NOMBRE_TIPO_PATRIMONIO','NOMBRE_PATRIMONIO','TIPO_PARTICIPACION', 'CODIGO_NEGOCIO', 'TIPO_NEGOCIO', 'ANULACIONES','NUMERO_INVERSIONISTAS','NUMERO_UNIDADES_FONDO_CIERRE_OPER_DIA_T_ANTERIOR','VALOR_UNIDAD_OPERACIONES_DIA_T']\n",
    "\n",
    "df = df.drop(columns=columns_to_drop, errors='ignore')\n",
    "\n",
    "df.head()"
   ]
  },
  {
   "cell_type": "code",
   "execution_count": 25,
   "metadata": {},
   "outputs": [],
   "source": [
    "# Definir variables predictoras y respuesta\n",
    "X = df[[\"APORTES_RECIBIDOS\", \"PRECIERRE_FONDO_DIA_T\", \"VALOR_FONDO_CIERRE_DIA_T\", \"TIPO_ENTIDAD\"]]\n",
    "y = df[\"RETIROS_REDENCIONES\"]\n",
    "\n",
    "# Dividir en conjunto de entrenamiento y prueba\n",
    "X_train, X_test, y_train, y_test = train_test_split(X, y, test_size=0.2, random_state=42)"
   ]
  },
  {
   "cell_type": "code",
   "execution_count": 57,
   "metadata": {},
   "outputs": [],
   "source": [
    "# Escalar los datos\n",
    "scaler = StandardScaler()\n",
    "X_train= scaler.fit_transform(X_train)\n",
    "X_test= scaler.transform(X_test)"
   ]
  },
  {
   "cell_type": "code",
   "execution_count": 58,
   "metadata": {},
   "outputs": [],
   "source": [
    "# 1️⃣ MODELO DE CLASIFICACIÓN (Regresión Logística)\n",
    "y_train_class = (y_train > 0).astype(int)\n",
    "y_test_class = (y_test > 0).astype(int)\n",
    "\n",
    "logistic_model = LogisticRegression()\n",
    "logistic_model.fit(X_train, y_train_class)\n",
    "\n",
    "# Predicción: ¿Es 0 o mayor a 0?\n",
    "y_test_class_pred = logistic_model.predict(X_test)"
   ]
  },
  {
   "cell_type": "code",
   "execution_count": 60,
   "metadata": {},
   "outputs": [],
   "source": [
    "def calcular_metricas(y_real, y_pred):\n",
    "    \"\"\"Calcula métricas solo para y > 0 en MAPE, y para todos en RMSE y R²\"\"\"\n",
    "    mape = mean_absolute_percentage_error(y_real[y_real > 0], y_pred[y_real > 0]) if np.any(y_real > 0) else np.nan\n",
    "    rmse = mean_squared_error(y_real, y_pred, squared=False)\n",
    "    r2 = r2_score(y_real, y_pred)\n",
    "    \n",
    "    # Residuales\n",
    "    residuos = y_real - y_pred\n",
    "\n",
    "    # Ljung-Box Test (Autocorrelación en residuos)\n",
    "    ljung_box_pvalue = acorr_ljungbox(residuos, lags=[10], return_df=True)['lb_pvalue'].values[0]\n",
    "\n",
    "    # Jarque-Bera Test (Normalidad en residuos)\n",
    "    jarque_bera_pvalue = jarque_bera(residuos)[1]\n",
    "\n",
    "    return {\n",
    "        \"MAPE\": mape,\n",
    "        \"RMSE\": rmse,\n",
    "        \"R²\": r2,\n",
    "        \"Ljung-Box p-value\": ljung_box_pvalue,\n",
    "        \"Jarque-Bera p-value\": jarque_bera_pvalue\n",
    "    }"
   ]
  },
  {
   "cell_type": "code",
   "execution_count": 61,
   "metadata": {},
   "outputs": [],
   "source": [
    "def entrenar_modelo_regresion(X_train, X_test, y_train, y_test, metodo_regresion=\"ridge\"):\n",
    "    \"\"\"Entrena un modelo de regresión, imprime R² en train/test y devuelve las predicciones\"\"\"\n",
    "    \n",
    "    # Filtrar datos donde y_train > 0\n",
    "    X_train_reg = X_train[y_train > 0]\n",
    "    y_train_reg = y_train[y_train > 0]\n",
    "\n",
    "    # Selección del modelo de regresión\n",
    "    if metodo_regresion.lower() == \"ridge\":\n",
    "        model = Ridge(alpha=1.0)\n",
    "    elif metodo_regresion.lower() == \"linear\":\n",
    "        model = LinearRegression()\n",
    "    elif metodo_regresion.lower() == \"lasso\":\n",
    "        model = Lasso(alpha=0.1)\n",
    "    else:\n",
    "        raise ValueError(\"Método de regresión no soportado. Usa 'ridge', 'linear' o 'lasso'.\")\n",
    "\n",
    "    # Entrenar el modelo\n",
    "    model.fit(X_train_reg, y_train_reg)\n",
    "\n",
    "    # Predicciones\n",
    "    y_train_pred = model.predict(X_train_reg)\n",
    "    y_test_pred = model.predict(X_test)\n",
    "\n",
    "    # Calcular R² (Accuracy)\n",
    "    train_r2 = r2_score(y_train_reg, y_train_pred)\n",
    "    test_r2 = r2_score(y_test, y_test_pred)\n",
    "\n",
    "    # Imprimir resultados\n",
    "    print(f'Modelo: {metodo_regresion.capitalize()}')\n",
    "    print(f'R² en entrenamiento: {train_r2:.4f}')\n",
    "    print(f'R² en prueba: {test_r2:.4f}')\n",
    "    print('-' * 40)\n",
    "\n",
    "    return y_test_pred, model"
   ]
  },
  {
   "cell_type": "code",
   "execution_count": 62,
   "metadata": {},
   "outputs": [],
   "source": [
    "def mostrar_predicciones(y_real, y_pred, num_filas=30):\n",
    "    \"\"\"Muestra las primeras N filas con valores reales vs. predichos\"\"\"\n",
    "    df_results = pd.DataFrame({\n",
    "        'Real': y_real[:num_filas].values,\n",
    "        'Predicho': y_pred[:num_filas]\n",
    "    })\n",
    "\n",
    "    print(df_results)\n",
    "    return df_results"
   ]
  },
  {
   "cell_type": "markdown",
   "metadata": {},
   "source": [
    "## **Regresión Lineal**"
   ]
  },
  {
   "cell_type": "code",
   "execution_count": null,
   "metadata": {},
   "outputs": [],
   "source": [
    "# Entrenar el modelo con Ridge\n",
    "y_test_pred_l, modelo_linear = entrenar_modelo_regresion(X_train, X_test, y_train, metodo_regresion=\"linear\")"
   ]
  },
  {
   "cell_type": "code",
   "execution_count": null,
   "metadata": {},
   "outputs": [],
   "source": [
    "# Calcular métricas\n",
    "metricas_l = calcular_metricas(y_test, y_test_pred_l)\n",
    "print(metricas_l)"
   ]
  },
  {
   "cell_type": "code",
   "execution_count": null,
   "metadata": {},
   "outputs": [],
   "source": [
    "# Mostrar primeras 15 predicciones\n",
    "mostrar_predicciones(y_test, y_test_pred_l)"
   ]
  },
  {
   "cell_type": "markdown",
   "metadata": {},
   "source": [
    " El modelo tiene un ajuste muy bueno en ambos conjuntos, lo que indica que generaliza bien y no hay sobreajuste evidente"
   ]
  },
  {
   "cell_type": "markdown",
   "metadata": {},
   "source": [
    "## **Regresión de Ridge**"
   ]
  },
  {
   "cell_type": "code",
   "execution_count": null,
   "metadata": {},
   "outputs": [],
   "source": []
  },
  {
   "cell_type": "code",
   "execution_count": null,
   "metadata": {},
   "outputs": [],
   "source": []
  },
  {
   "cell_type": "code",
   "execution_count": null,
   "metadata": {},
   "outputs": [],
   "source": []
  },
  {
   "cell_type": "code",
   "execution_count": null,
   "metadata": {},
   "outputs": [],
   "source": []
  },
  {
   "cell_type": "code",
   "execution_count": null,
   "metadata": {},
   "outputs": [],
   "source": []
  },
  {
   "cell_type": "code",
   "execution_count": null,
   "metadata": {},
   "outputs": [],
   "source": []
  },
  {
   "cell_type": "code",
   "execution_count": null,
   "metadata": {},
   "outputs": [],
   "source": []
  },
  {
   "cell_type": "code",
   "execution_count": null,
   "metadata": {},
   "outputs": [],
   "source": []
  }
 ],
 "metadata": {
  "kernelspec": {
   "display_name": "base",
   "language": "python",
   "name": "python3"
  },
  "language_info": {
   "codemirror_mode": {
    "name": "ipython",
    "version": 3
   },
   "file_extension": ".py",
   "mimetype": "text/x-python",
   "name": "python",
   "nbconvert_exporter": "python",
   "pygments_lexer": "ipython3",
   "version": "3.12.3"
  }
 },
 "nbformat": 4,
 "nbformat_minor": 2
}
